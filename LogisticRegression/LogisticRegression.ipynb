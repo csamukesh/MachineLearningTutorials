{
 "cells": [
  {
   "cell_type": "code",
   "execution_count": null,
   "metadata": {},
   "outputs": [],
   "source": [
    "from sklearn.datasets import make_blobs\n",
    "import numpy as np\n",
    "\n",
    "X, y = make_blobs(n_samples=100, centers=2, n_features=2)"
   ]
  },
  {
   "cell_type": "code",
   "execution_count": null,
   "metadata": {},
   "outputs": [],
   "source": [
    "class LogisticRegression:\n",
    "    \n",
    "    def sigmoid(self, x):\n",
    "        return 1.0/(1+np.exp(-1*x))\n",
    "    \n",
    "    def gradient(self, w, x, y):\n",
    "        n = len(y)\n",
    "        return (1/n)*np.dot(x.T, self.sigmoid(np.dot(x, w)) - y)\n",
    "        \n",
    "    def loss(self, yhat, y):\n",
    "        loss = np.sum(y*np.log(yhat) + (1-y)*np.log(1-yhat))\n",
    "        return loss/len(y)\n",
    "    \n",
    "    def prediction(self, x,w):\n",
    "        mul = np.dot(x, w)\n",
    "        return self.sigmoid(mul)\n",
    "    \n",
    "    def accuracy(self, yhat, y):\n",
    "        label = yhat > 0.5\n",
    "        return np.dot(label, y)/(len(y)*1.0)\n",
    "\n",
    "    def train(self, x, y):\n",
    "        w = np.random.rand(2)\n",
    "        lr = 0.1\n",
    "        epochs = 20\n",
    "        for epoch in range(epochs):\n",
    "            grad = self.gradient(w, x, y)\n",
    "            w = w - lr * grad\n",
    "                \n",
    "            yhat = self.prediction(x, w)\n",
    "            loss = self.loss(yhat, y)\n",
    "            accuracy = self.accuracy(yhat, y)\n",
    "            print(loss)\n",
    "            print(accuracy)"
   ]
  },
  {
   "cell_type": "code",
   "execution_count": null,
   "metadata": {},
   "outputs": [],
   "source": [
    "model = LogisticRegression()\n",
    "model.train(X, y)"
   ]
  }
 ],
 "metadata": {
  "kernelspec": {
   "display_name": "Python 3",
   "language": "python",
   "name": "python3"
  },
  "language_info": {
   "codemirror_mode": {
    "name": "ipython",
    "version": 3
   },
   "file_extension": ".py",
   "mimetype": "text/x-python",
   "name": "python",
   "nbconvert_exporter": "python",
   "pygments_lexer": "ipython3",
   "version": "3.7.6"
  }
 },
 "nbformat": 4,
 "nbformat_minor": 4
}
